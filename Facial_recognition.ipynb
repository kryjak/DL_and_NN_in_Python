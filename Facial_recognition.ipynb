{
 "cells": [
  {
   "cell_type": "code",
   "execution_count": 1,
   "metadata": {},
   "outputs": [],
   "source": [
    "import numpy as np\n",
    "import pandas as pd\n",
    "import scipy.special as sp\n",
    "from sklearn.utils import shuffle\n",
    "import matplotlib.pyplot as plt\n",
    "import PIL\n",
    "\n",
    "rng = np.random.default_rng(42)"
   ]
  },
  {
   "cell_type": "markdown",
   "metadata": {},
   "source": [
    "# Get and visualise data"
   ]
  },
  {
   "cell_type": "code",
   "execution_count": 3,
   "metadata": {},
   "outputs": [
    {
     "name": "stdout",
     "output_type": "stream",
     "text": [
      "   emotion                                             pixels     Usage\n",
      "0        0  70 80 82 72 58 58 60 63 54 58 60 48 89 115 121...  Training\n",
      "1        0  151 150 147 155 148 133 111 140 170 174 182 15...  Training\n",
      "2        2  231 212 156 164 174 138 161 173 182 200 106 38...  Training\n",
      "3        4  24 32 36 30 32 23 19 20 30 41 21 22 32 34 21 1...  Training\n",
      "4        6  4 0 0 0 0 0 0 0 0 0 0 0 3 15 23 28 48 50 58 84...  Training\n",
      "number of photos in the dataset is: 35887\n",
      "check number of features is 48**2: True\n",
      "Number of samples in training set: 25120\n",
      "Number of samples in test set: 10767\n"
     ]
    }
   ],
   "source": [
    "# df = pd.read_csv('fer2013.csv')\n",
    "import PIL.Image\n",
    "\n",
    "\n",
    "print(df.head())\n",
    "print(f'number of photos in the dataset is: {len(df)}')\n",
    "      \n",
    "X = []\n",
    "Y = []\n",
    "\n",
    "for row in df.index:  # correct this!!!\n",
    "    X.append(list(map(int, df.iloc[row].pixels.split(' '))))\n",
    "    Y.append(df.iloc[row].emotion)\n",
    "\n",
    "X = np.array(X) / 255 # normalise pixel values to lie between 0 and 1\n",
    "Y = np.array(Y)\n",
    "\n",
    "print(f'check number of features is 48**2: {X.shape[1] == 48**2}')\n",
    "\n",
    "X, Y = shuffle(X, Y, random_state=42)  # numpys shuffle is not nice because you can't shuffle two arrays simultaneously\n",
    "\n",
    "train_proportion = 0.7\n",
    "train_index = int(0.7*len(X))\n",
    "\n",
    "X_train, X_test = X[:train_index], X[train_index:]\n",
    "Y_train, Y_test = Y[:train_index], Y[train_index:]\n",
    "# or just use train_test_split from sklearn.model_selection for the same effect\n",
    "\n",
    "print(f'Number of samples in training set: {len(X_train)}')\n",
    "print(f'Number of samples in test set: {len(X_test)}')"
   ]
  },
  {
   "cell_type": "code",
   "execution_count": 4,
   "metadata": {},
   "outputs": [
    {
     "name": "stdout",
     "output_type": "stream",
     "text": [
      "357\n",
      "emotion                                                    5\n",
      "pixels     243 255 115 9 21 19 23 24 27 29 31 35 37 39 49...\n",
      "Usage                                               Training\n",
      "Name: 3285, dtype: object\n"
     ]
    }
   ],
   "source": [
    "emotions = ['Anger', 'Disgust', 'Fear', 'Happy', 'Sad', 'Surprise', 'Neutral']\n",
    "\n",
    "def show_sample_image(emotion: int):\n",
    "    emotion_no = emotions.index(emotion)\n",
    "    df_emotion = df[df.emotion == emotion_no]\n",
    "\n",
    "    random_no = rng.integers(0, len(df_emotion))\n",
    "    print(random_no)\n",
    "    print(df_emotion.iloc[random_no])\n",
    "\n",
    "    img = np.array(list(map(int, df_emotion.iloc[random_no].pixels.split(' '))), dtype=np.uint8).reshape((48,48))\n",
    "    img = PIL.Image.fromarray(img).resize((1000, 1000))\n",
    "    img.show()\n",
    "\n",
    "show_sample_image('Surprise')"
   ]
  },
  {
   "cell_type": "markdown",
   "metadata": {},
   "source": [
    "# Train and predict"
   ]
  },
  {
   "cell_type": "code",
   "execution_count": 5,
   "metadata": {},
   "outputs": [],
   "source": [
    "# X - input matrix, size NxD\n",
    "# Z - hidden layer, size NxM\n",
    "# Y - output layer, size NxK\n",
    "# T - target one-hot encoded as an indicator matrix, size NxK\n",
    "# W2 - weight matrix of the second layer\n",
    "def derivative_W1(X, Z, W2, Y, T):\n",
    "    return X.T.dot((T - Y).dot(W2.T) * Z * (1 - Z))\n",
    "def derivative_b1(Z, W2, Y, T):\n",
    "    return np.sum((T - Y).dot(W2.T) * Z * (1 - Z), axis=0)\n",
    "def derivative_W2(Z, Y, T):\n",
    "    return Z.T.dot(T - Y)\n",
    "def derivative_b2(Y, T):\n",
    "    return np.sum(T - Y, axis=0)\n",
    "\n",
    "def feedforward(X, W1, b1, W2, b2):\n",
    "    a = X.dot(W1) + b1\n",
    "    Z = np.tanh(a)\n",
    "    alpha = Z.dot(W2) + b2\n",
    "    Y = sp.softmax(alpha, axis=1)\n",
    "    return Z, Y\n",
    "\n",
    "def predict(pY):\n",
    "    return np.argmax(pY, axis=1)"
   ]
  },
  {
   "cell_type": "code",
   "execution_count": 8,
   "metadata": {},
   "outputs": [],
   "source": [
    "class ANN(object):\n",
    "    def __init__(self, M) -> None:\n",
    "        self.M = M\n",
    "\n",
    "    def fit(self, X_train, Y_train, X_test, Y_test, learning_rate, penalty, steps):\n",
    "        K = len(emotions)\n",
    "        N, D = X_train.shape\n",
    "\n",
    "        # create the indicator matrix for the targets\n",
    "        T = np.zeros((N, K), dtype=int)\n",
    "        T_test = np.zeros((len(Y_test), K), dtype=int)\n",
    "        for ii in range(N):\n",
    "            T[ii, Y_train[ii]] = 1\n",
    "        for ii in range(len(Y_test)):\n",
    "            T_test[ii, Y_test[ii]] = 1\n",
    "\n",
    "        # randomly initialize weights\n",
    "        self.W1 = np.random.randn(D, self.M) / np.sqrt(D)\n",
    "        self.b1 = np.random.randn(self.M)\n",
    "        self.W2 = np.random.randn(self.M, K) / np.sqrt(self.M)\n",
    "        self.b2 = np.random.randn(K)\n",
    "\n",
    "        cost = []\n",
    "\n",
    "        for ii in range(steps):\n",
    "            Z, pY_train = feedforward(X_train, self.W1, self.b1, self.W2, self.b2)\n",
    "            print(pY_train)\n",
    "            print(predict(pY_train))\n",
    "            break\n",
    "\n",
    "            self.W1 -= learning_rate * (derivative_W1(X_train, Z, self.W2, pY_train, T) + penalty*self.W1)\n",
    "            self.b1 -= learning_rate * (derivative_b1(Z, self.W2, pY_train, T) + penalty*self.b1)\n",
    "            self.W2 -= learning_rate * (derivative_W2(Z, pY_train, T) + penalty*self.W2)\n",
    "            self.b2 -= learning_rate * (derivative_b2(pY_train, T) + penalty*self.b2)\n",
    "\n",
    "            if ii % 10 == 0:\n",
    "                _, pY_test = feedforward(X_test, self.W1, self.b1, self.W2, self.b2)\n",
    "                preds = predict(pY_test)\n",
    "                print(preds)\n",
    "                print(Y_test)\n",
    "                classification_rate = np.mean(preds == Y_test)\n",
    "                print(f'classification rate: {classification_rate}')\n",
    "                cost.append(np.sum(T_test * np.log(pY_test)))\n",
    "\n",
    "        # plt.plot(cost)\n",
    "        # plt.show()\n",
    "\n"
   ]
  },
  {
   "cell_type": "code",
   "execution_count": 9,
   "metadata": {},
   "outputs": [
    {
     "name": "stdout",
     "output_type": "stream",
     "text": [
      "[[0.05438607 0.17616684 0.1257669  ... 0.38452182 0.02207647 0.20858666]\n",
      " [0.05184157 0.19787179 0.13492912 ... 0.341275   0.02596001 0.22186059]\n",
      " [0.05626767 0.16232185 0.15868729 ... 0.32856727 0.0244281  0.24207795]\n",
      " ...\n",
      " [0.04740451 0.13304035 0.11882646 ... 0.42874405 0.02068709 0.22404237]\n",
      " [0.05738611 0.16175321 0.15369372 ... 0.3780483  0.02029    0.19960927]\n",
      " [0.04401344 0.12276329 0.10811382 ... 0.40499571 0.0167143  0.28008531]]\n",
      "[4 4 4 ... 4 4 4]\n"
     ]
    }
   ],
   "source": [
    "model = ANN(100)\n",
    "model.fit(X_train, Y_train, X_test, Y_test, learning_rate=1e-6, penalty=0, steps=1000)"
   ]
  },
  {
   "cell_type": "code",
   "execution_count": null,
   "metadata": {},
   "outputs": [],
   "source": []
  }
 ],
 "metadata": {
  "kernelspec": {
   "display_name": "venv",
   "language": "python",
   "name": "python3"
  },
  "language_info": {
   "codemirror_mode": {
    "name": "ipython",
    "version": 3
   },
   "file_extension": ".py",
   "mimetype": "text/x-python",
   "name": "python",
   "nbconvert_exporter": "python",
   "pygments_lexer": "ipython3",
   "version": "3.11.9"
  }
 },
 "nbformat": 4,
 "nbformat_minor": 2
}
